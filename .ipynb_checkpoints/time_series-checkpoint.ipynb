{
 "cells": [
  {
   "cell_type": "code",
   "execution_count": 1,
   "id": "6ab16327",
   "metadata": {
    "scrolled": true
   },
   "outputs": [
    {
     "name": "stdout",
     "output_type": "stream",
     "text": [
      "Requirement already satisfied: dash in c:\\users\\jimwa\\appdata\\local\\programs\\python\\python39\\lib\\site-packages (2.9.3)\n",
      "Requirement already satisfied: dash-core-components==2.0.0 in c:\\users\\jimwa\\appdata\\local\\programs\\python\\python39\\lib\\site-packages (from dash) (2.0.0)\n",
      "Requirement already satisfied: Flask>=1.0.4 in c:\\users\\jimwa\\appdata\\local\\programs\\python\\python39\\lib\\site-packages (from dash) (2.2.2)\n",
      "Requirement already satisfied: dash-table==5.0.0 in c:\\users\\jimwa\\appdata\\local\\programs\\python\\python39\\lib\\site-packages (from dash) (5.0.0)\n",
      "Requirement already satisfied: dash-html-components==2.0.0 in c:\\users\\jimwa\\appdata\\local\\programs\\python\\python39\\lib\\site-packages (from dash) (2.0.0)\n",
      "Requirement already satisfied: plotly>=5.0.0 in c:\\users\\jimwa\\appdata\\local\\programs\\python\\python39\\lib\\site-packages (from dash) (5.13.1)\n",
      "Requirement already satisfied: Werkzeug>=2.2.2 in c:\\users\\jimwa\\appdata\\local\\programs\\python\\python39\\lib\\site-packages (from Flask>=1.0.4->dash) (2.2.2)\n",
      "Requirement already satisfied: importlib-metadata>=3.6.0 in c:\\users\\jimwa\\appdata\\local\\programs\\python\\python39\\lib\\site-packages (from Flask>=1.0.4->dash) (6.0.0)\n",
      "Requirement already satisfied: click>=8.0 in c:\\users\\jimwa\\appdata\\local\\programs\\python\\python39\\lib\\site-packages (from Flask>=1.0.4->dash) (8.1.3)\n",
      "Requirement already satisfied: Jinja2>=3.0 in c:\\users\\jimwa\\appdata\\local\\programs\\python\\python39\\lib\\site-packages (from Flask>=1.0.4->dash) (3.1.2)\n",
      "Requirement already satisfied: itsdangerous>=2.0 in c:\\users\\jimwa\\appdata\\local\\programs\\python\\python39\\lib\\site-packages (from Flask>=1.0.4->dash) (2.1.2)\n",
      "Requirement already satisfied: tenacity>=6.2.0 in c:\\users\\jimwa\\appdata\\local\\programs\\python\\python39\\lib\\site-packages (from plotly>=5.0.0->dash) (8.2.2)\n",
      "Requirement already satisfied: colorama in c:\\users\\jimwa\\appdata\\local\\programs\\python\\python39\\lib\\site-packages (from click>=8.0->Flask>=1.0.4->dash) (0.4.6)\n",
      "Requirement already satisfied: zipp>=0.5 in c:\\users\\jimwa\\appdata\\local\\programs\\python\\python39\\lib\\site-packages (from importlib-metadata>=3.6.0->Flask>=1.0.4->dash) (3.15.0)\n",
      "Requirement already satisfied: MarkupSafe>=2.0 in c:\\users\\jimwa\\appdata\\local\\programs\\python\\python39\\lib\\site-packages (from Jinja2>=3.0->Flask>=1.0.4->dash) (2.1.2)\n"
     ]
    },
    {
     "name": "stderr",
     "output_type": "stream",
     "text": [
      "WARNING: You are using pip version 22.0.4; however, version 23.1.1 is available.\n",
      "You should consider upgrading via the 'C:\\Users\\jimwa\\AppData\\Local\\Programs\\Python\\Python39\\python.exe -m pip install --upgrade pip' command.\n"
     ]
    }
   ],
   "source": [
    "!pip install dash"
   ]
  },
  {
   "cell_type": "code",
   "execution_count": 2,
   "id": "bace691b",
   "metadata": {},
   "outputs": [
    {
     "name": "stdout",
     "output_type": "stream",
     "text": [
      "Requirement already satisfied: plotly in c:\\users\\jimwa\\appdata\\local\\programs\\python\\python39\\lib\\site-packages (5.13.1)\n",
      "Requirement already satisfied: tenacity>=6.2.0 in c:\\users\\jimwa\\appdata\\local\\programs\\python\\python39\\lib\\site-packages (from plotly) (8.2.2)\n"
     ]
    },
    {
     "name": "stderr",
     "output_type": "stream",
     "text": [
      "WARNING: You are using pip version 22.0.4; however, version 23.1.1 is available.\n",
      "You should consider upgrading via the 'C:\\Users\\jimwa\\AppData\\Local\\Programs\\Python\\Python39\\python.exe -m pip install --upgrade pip' command.\n"
     ]
    }
   ],
   "source": [
    "!pip install plotly"
   ]
  },
  {
   "cell_type": "code",
   "execution_count": 3,
   "id": "4deb9d21",
   "metadata": {},
   "outputs": [
    {
     "name": "stdout",
     "output_type": "stream",
     "text": [
      "Requirement already satisfied: jupyter-dash in c:\\users\\jimwa\\appdata\\local\\programs\\python\\python39\\lib\\site-packages (0.4.2)\n",
      "Requirement already satisfied: dash in c:\\users\\jimwa\\appdata\\local\\programs\\python\\python39\\lib\\site-packages (from jupyter-dash) (2.9.3)\n",
      "Requirement already satisfied: ipython in c:\\users\\jimwa\\appdata\\local\\programs\\python\\python39\\lib\\site-packages (from jupyter-dash) (8.10.0)\n",
      "Requirement already satisfied: retrying in c:\\users\\jimwa\\appdata\\local\\programs\\python\\python39\\lib\\site-packages (from jupyter-dash) (1.3.4)\n",
      "Requirement already satisfied: flask in c:\\users\\jimwa\\appdata\\local\\programs\\python\\python39\\lib\\site-packages (from jupyter-dash) (2.2.2)\n",
      "Requirement already satisfied: ipykernel in c:\\users\\jimwa\\appdata\\local\\programs\\python\\python39\\lib\\site-packages (from jupyter-dash) (6.21.2)\n",
      "Requirement already satisfied: requests in c:\\users\\jimwa\\appdata\\local\\programs\\python\\python39\\lib\\site-packages (from jupyter-dash) (2.28.2)\n",
      "Requirement already satisfied: nest-asyncio in c:\\users\\jimwa\\appdata\\local\\programs\\python\\python39\\lib\\site-packages (from jupyter-dash) (1.5.6)\n",
      "Requirement already satisfied: ansi2html in c:\\users\\jimwa\\appdata\\local\\programs\\python\\python39\\lib\\site-packages (from jupyter-dash) (1.8.0)\n",
      "Requirement already satisfied: dash-table==5.0.0 in c:\\users\\jimwa\\appdata\\local\\programs\\python\\python39\\lib\\site-packages (from dash->jupyter-dash) (5.0.0)\n",
      "Requirement already satisfied: dash-html-components==2.0.0 in c:\\users\\jimwa\\appdata\\local\\programs\\python\\python39\\lib\\site-packages (from dash->jupyter-dash) (2.0.0)\n",
      "Requirement already satisfied: dash-core-components==2.0.0 in c:\\users\\jimwa\\appdata\\local\\programs\\python\\python39\\lib\\site-packages (from dash->jupyter-dash) (2.0.0)\n",
      "Requirement already satisfied: plotly>=5.0.0 in c:\\users\\jimwa\\appdata\\local\\programs\\python\\python39\\lib\\site-packages (from dash->jupyter-dash) (5.13.1)\n",
      "Requirement already satisfied: click>=8.0 in c:\\users\\jimwa\\appdata\\local\\programs\\python\\python39\\lib\\site-packages (from flask->jupyter-dash) (8.1.3)\n",
      "Requirement already satisfied: importlib-metadata>=3.6.0 in c:\\users\\jimwa\\appdata\\local\\programs\\python\\python39\\lib\\site-packages (from flask->jupyter-dash) (6.0.0)\n",
      "Requirement already satisfied: itsdangerous>=2.0 in c:\\users\\jimwa\\appdata\\local\\programs\\python\\python39\\lib\\site-packages (from flask->jupyter-dash) (2.1.2)\n",
      "Requirement already satisfied: Jinja2>=3.0 in c:\\users\\jimwa\\appdata\\local\\programs\\python\\python39\\lib\\site-packages (from flask->jupyter-dash) (3.1.2)\n",
      "Requirement already satisfied: Werkzeug>=2.2.2 in c:\\users\\jimwa\\appdata\\local\\programs\\python\\python39\\lib\\site-packages (from flask->jupyter-dash) (2.2.2)\n",
      "Requirement already satisfied: jupyter-core!=5.0.*,>=4.12 in c:\\users\\jimwa\\appdata\\local\\programs\\python\\python39\\lib\\site-packages (from ipykernel->jupyter-dash) (5.2.0)\n",
      "Requirement already satisfied: traitlets>=5.4.0 in c:\\users\\jimwa\\appdata\\local\\programs\\python\\python39\\lib\\site-packages (from ipykernel->jupyter-dash) (5.9.0)\n",
      "Requirement already satisfied: comm>=0.1.1 in c:\\users\\jimwa\\appdata\\local\\programs\\python\\python39\\lib\\site-packages (from ipykernel->jupyter-dash) (0.1.2)\n",
      "Requirement already satisfied: jupyter-client>=6.1.12 in c:\\users\\jimwa\\appdata\\local\\programs\\python\\python39\\lib\\site-packages (from ipykernel->jupyter-dash) (8.0.3)\n",
      "Requirement already satisfied: debugpy>=1.6.5 in c:\\users\\jimwa\\appdata\\local\\programs\\python\\python39\\lib\\site-packages (from ipykernel->jupyter-dash) (1.6.6)\n",
      "Requirement already satisfied: matplotlib-inline>=0.1 in c:\\users\\jimwa\\appdata\\local\\programs\\python\\python39\\lib\\site-packages (from ipykernel->jupyter-dash) (0.1.6)\n",
      "Requirement already satisfied: tornado>=6.1 in c:\\users\\jimwa\\appdata\\local\\programs\\python\\python39\\lib\\site-packages (from ipykernel->jupyter-dash) (6.2)\n",
      "Requirement already satisfied: pyzmq>=20 in c:\\users\\jimwa\\appdata\\local\\programs\\python\\python39\\lib\\site-packages (from ipykernel->jupyter-dash) (25.0.0)\n",
      "Requirement already satisfied: psutil in c:\\users\\jimwa\\appdata\\local\\programs\\python\\python39\\lib\\site-packages (from ipykernel->jupyter-dash) (5.9.4)\n",
      "Requirement already satisfied: packaging in c:\\users\\jimwa\\appdata\\local\\programs\\python\\python39\\lib\\site-packages (from ipykernel->jupyter-dash) (23.0)\n",
      "Requirement already satisfied: jedi>=0.16 in c:\\users\\jimwa\\appdata\\local\\programs\\python\\python39\\lib\\site-packages (from ipython->jupyter-dash) (0.18.2)\n",
      "Requirement already satisfied: pickleshare in c:\\users\\jimwa\\appdata\\local\\programs\\python\\python39\\lib\\site-packages (from ipython->jupyter-dash) (0.7.5)\n",
      "Requirement already satisfied: decorator in c:\\users\\jimwa\\appdata\\local\\programs\\python\\python39\\lib\\site-packages (from ipython->jupyter-dash) (5.1.1)\n",
      "Requirement already satisfied: prompt-toolkit<3.1.0,>=3.0.30 in c:\\users\\jimwa\\appdata\\local\\programs\\python\\python39\\lib\\site-packages (from ipython->jupyter-dash) (3.0.37)\n",
      "Requirement already satisfied: stack-data in c:\\users\\jimwa\\appdata\\local\\programs\\python\\python39\\lib\\site-packages (from ipython->jupyter-dash) (0.6.2)\n",
      "Requirement already satisfied: pygments>=2.4.0 in c:\\users\\jimwa\\appdata\\local\\programs\\python\\python39\\lib\\site-packages (from ipython->jupyter-dash) (2.14.0)\n",
      "Requirement already satisfied: backcall in c:\\users\\jimwa\\appdata\\local\\programs\\python\\python39\\lib\\site-packages (from ipython->jupyter-dash) (0.2.0)\n",
      "Requirement already satisfied: colorama in c:\\users\\jimwa\\appdata\\local\\programs\\python\\python39\\lib\\site-packages (from ipython->jupyter-dash) (0.4.6)\n",
      "Requirement already satisfied: charset-normalizer<4,>=2 in c:\\users\\jimwa\\appdata\\local\\programs\\python\\python39\\lib\\site-packages (from requests->jupyter-dash) (2.1.1)\n",
      "Requirement already satisfied: idna<4,>=2.5 in c:\\users\\jimwa\\appdata\\local\\programs\\python\\python39\\lib\\site-packages (from requests->jupyter-dash) (3.4)\n",
      "Requirement already satisfied: urllib3<1.27,>=1.21.1 in c:\\users\\jimwa\\appdata\\local\\programs\\python\\python39\\lib\\site-packages (from requests->jupyter-dash) (1.26.14)\n",
      "Requirement already satisfied: certifi>=2017.4.17 in c:\\users\\jimwa\\appdata\\local\\programs\\python\\python39\\lib\\site-packages (from requests->jupyter-dash) (2022.12.7)\n",
      "Requirement already satisfied: six>=1.7.0 in c:\\users\\jimwa\\appdata\\local\\programs\\python\\python39\\lib\\site-packages (from retrying->jupyter-dash) (1.16.0)\n",
      "Requirement already satisfied: zipp>=0.5 in c:\\users\\jimwa\\appdata\\local\\programs\\python\\python39\\lib\\site-packages (from importlib-metadata>=3.6.0->flask->jupyter-dash) (3.15.0)\n",
      "Requirement already satisfied: parso<0.9.0,>=0.8.0 in c:\\users\\jimwa\\appdata\\local\\programs\\python\\python39\\lib\\site-packages (from jedi>=0.16->ipython->jupyter-dash) (0.8.3)\n",
      "Requirement already satisfied: MarkupSafe>=2.0 in c:\\users\\jimwa\\appdata\\local\\programs\\python\\python39\\lib\\site-packages (from Jinja2>=3.0->flask->jupyter-dash) (2.1.2)\n",
      "Requirement already satisfied: python-dateutil>=2.8.2 in c:\\users\\jimwa\\appdata\\local\\programs\\python\\python39\\lib\\site-packages (from jupyter-client>=6.1.12->ipykernel->jupyter-dash) (2.8.2)\n",
      "Requirement already satisfied: platformdirs>=2.5 in c:\\users\\jimwa\\appdata\\local\\programs\\python\\python39\\lib\\site-packages (from jupyter-core!=5.0.*,>=4.12->ipykernel->jupyter-dash) (3.0.0)\n",
      "Requirement already satisfied: pywin32>=1.0 in c:\\users\\jimwa\\appdata\\local\\programs\\python\\python39\\lib\\site-packages (from jupyter-core!=5.0.*,>=4.12->ipykernel->jupyter-dash) (305)\n",
      "Requirement already satisfied: tenacity>=6.2.0 in c:\\users\\jimwa\\appdata\\local\\programs\\python\\python39\\lib\\site-packages (from plotly>=5.0.0->dash->jupyter-dash) (8.2.2)\n",
      "Requirement already satisfied: wcwidth in c:\\users\\jimwa\\appdata\\local\\programs\\python\\python39\\lib\\site-packages (from prompt-toolkit<3.1.0,>=3.0.30->ipython->jupyter-dash) (0.2.6)\n",
      "Requirement already satisfied: executing>=1.2.0 in c:\\users\\jimwa\\appdata\\local\\programs\\python\\python39\\lib\\site-packages (from stack-data->ipython->jupyter-dash) (1.2.0)\n",
      "Requirement already satisfied: pure-eval in c:\\users\\jimwa\\appdata\\local\\programs\\python\\python39\\lib\\site-packages (from stack-data->ipython->jupyter-dash) (0.2.2)\n",
      "Requirement already satisfied: asttokens>=2.1.0 in c:\\users\\jimwa\\appdata\\local\\programs\\python\\python39\\lib\\site-packages (from stack-data->ipython->jupyter-dash) (2.2.1)\n"
     ]
    },
    {
     "name": "stderr",
     "output_type": "stream",
     "text": [
      "WARNING: You are using pip version 22.0.4; however, version 23.1.1 is available.\n",
      "You should consider upgrading via the 'C:\\Users\\jimwa\\AppData\\Local\\Programs\\Python\\Python39\\python.exe -m pip install --upgrade pip' command.\n"
     ]
    }
   ],
   "source": [
    "!pip install jupyter-dash"
   ]
  },
  {
   "cell_type": "code",
   "execution_count": 4,
   "id": "347b12d3",
   "metadata": {},
   "outputs": [
    {
     "name": "stdout",
     "output_type": "stream",
     "text": [
      "Dash is running on http://127.0.0.1:8050/\n",
      "\n"
     ]
    },
    {
     "data": {
      "text/html": [
       "\n",
       "        <iframe\n",
       "            width=\"100%\"\n",
       "            height=\"650\"\n",
       "            src=\"http://127.0.0.1:8050/\"\n",
       "            frameborder=\"0\"\n",
       "            allowfullscreen\n",
       "            \n",
       "        ></iframe>\n",
       "        "
      ],
      "text/plain": [
       "<IPython.lib.display.IFrame at 0x18276b6ef40>"
      ]
     },
     "metadata": {},
     "output_type": "display_data"
    }
   ],
   "source": [
    "from dash import Dash, html, dcc, callback, Output, Input\n",
    "import plotly.express as px\n",
    "import pandas as pd\n",
    "from jupyter_dash import JupyterDash\n",
    "\n",
    "df = pd.read_csv('https://raw.githubusercontent.com/plotly/datasets/master/gapminder_unfiltered.csv')\n",
    "\n",
    "app = JupyterDash(__name__)\n",
    "\n",
    "app.layout = html.Div([\n",
    "    html.H1(children='Title of Dash App', style={'textAlign':'center'}),\n",
    "    dcc.Dropdown(df.country.unique(), 'Canada', id='dropdown-selection'),\n",
    "    dcc.Graph(id='graph-content')\n",
    "])\n",
    "\n",
    "@callback(\n",
    "    Output('graph-content', 'figure'),\n",
    "    Input('dropdown-selection', 'value')\n",
    ")\n",
    "def update_graph(value):\n",
    "    dff = df[df.country==value]\n",
    "    return px.line(dff, x='year', y='pop')\n",
    "\n",
    "if __name__ == '__main__':\n",
    "    app.run_server(mode=\"inline\")\n"
   ]
  }
 ],
 "metadata": {
  "kernelspec": {
   "display_name": "Python 3 (ipykernel)",
   "language": "python",
   "name": "python3"
  },
  "language_info": {
   "codemirror_mode": {
    "name": "ipython",
    "version": 3
   },
   "file_extension": ".py",
   "mimetype": "text/x-python",
   "name": "python",
   "nbconvert_exporter": "python",
   "pygments_lexer": "ipython3",
   "version": "3.9.13"
  }
 },
 "nbformat": 4,
 "nbformat_minor": 5
}
